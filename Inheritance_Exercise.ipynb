{
  "nbformat": 4,
  "nbformat_minor": 0,
  "metadata": {
    "colab": {
      "provenance": [],
      "authorship_tag": "ABX9TyMjz3Lzs7STv/9KaH8Tpsov"
    },
    "kernelspec": {
      "name": "python3",
      "display_name": "Python 3"
    },
    "language_info": {
      "name": "python"
    }
  },
  "cells": [
    {
      "cell_type": "code",
      "source": [
        "class Person:\n",
        "    def __init__(self, firstName, lastName, identification):\n",
        "        self.firstName = firstName\n",
        "        self.lastName = lastName\n",
        "        self.id = identification\n",
        "\n",
        "    def printPerson(self):\n",
        "        print(f\"Name: {self.lastName}, {self.firstName}\\nID: {self.id}\")\n",
        "\n",
        "\n",
        "class Student(Person):\n",
        "    def __init__(self, firstName, lastName, identification, scores):\n",
        "        super().__init__(firstName, lastName, identification)\n",
        "        self.scores = scores\n",
        "\n",
        "    def calculate(self):\n",
        "        total = sum(self.scores)\n",
        "        average = total / len(self.scores)\n",
        "\n",
        "        if 90 <= average <= 100:\n",
        "            return 'A'\n",
        "        elif 80 <= average < 90:\n",
        "            return 'B'\n",
        "        elif 70 <= average < 80:\n",
        "            return 'C'\n",
        "        elif 60 <= average < 70:\n",
        "            return 'D'\n",
        "        else:\n",
        "            return 'F'\n",
        "\n",
        "\n",
        "if __name__ == \"__main__\":\n",
        "    firstName = input().strip()\n",
        "    lastName = input().strip()\n",
        "    id_num = int(input().strip())\n",
        "    num_scores = int(input().strip())\n",
        "    scores = list(map(int, input().strip().split()))\n",
        "\n",
        "    s = Student(firstName, lastName, id_num, scores)\n",
        "    s.printPerson()\n",
        "    print(f\"Grade: {s.calculate()}\")\n"
      ],
      "metadata": {
        "id": "7sgEomHlEZzG"
      },
      "execution_count": null,
      "outputs": []
    }
  ]
}